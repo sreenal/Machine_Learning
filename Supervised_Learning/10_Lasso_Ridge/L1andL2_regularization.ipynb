{
 "cells": [
  {
   "cell_type": "code",
   "execution_count": null,
   "metadata": {},
   "outputs": [],
   "source": []
  }
 ],
 "metadata": {
  "kernelspec": {
   "display_name": "Python 3.10.4 ('geoplive')",
   "language": "python",
   "name": "python3"
  },
  "language_info": {
   "name": "python",
   "version": "3.10.4"
  },
  "orig_nbformat": 4,
  "vscode": {
   "interpreter": {
    "hash": "865d87932cdc50960cab247f49dabb076ef1446cafda6f0c6ed0d5635bca9809"
   }
  }
 },
 "nbformat": 4,
 "nbformat_minor": 2
}
